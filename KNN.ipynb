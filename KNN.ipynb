{
 "cells": [
  {
   "cell_type": "markdown",
   "id": "559443d5-b7bf-45c2-956f-4e568397c876",
   "metadata": {},
   "source": [
    "# Implementation of K-Nearest Neighbors Algorithm from scratch"
   ]
  },
  {
   "cell_type": "markdown",
   "id": "7622d0df-4ba1-45e2-b731-3433018d2c2d",
   "metadata": {},
   "source": [
    "#### KNN classifier"
   ]
  },
  {
   "cell_type": "code",
   "execution_count": 1,
   "id": "3be4c7bf",
   "metadata": {},
   "outputs": [],
   "source": [
    "class KNNClassifier:\n",
    "    \n",
    "    \n",
    "    # k: number of neighbors, default value: 5\n",
    "    # dist_metric: 1 -> Manhattan Distance, 2 -> Euclidean Distance; default value: 2\n",
    "    def __init__(self, k = 5, dist_metric = 2, X=[], y=[]):\n",
    "        self.k = k\n",
    "        self.X = list(X)\n",
    "        self.y = list(y)\n",
    "        self.dist_metric = dist_metric\n",
    "        # normalized dataset\n",
    "        self.X_norm = self.normalize_dataset(X, self.get_min_max(X))\n",
    "    \n",
    "    \n",
    "    def get_min_max(self, dataset):\n",
    "        # returns a matrix containing minimum (0) and maximum (1) values per column\n",
    "        norm = list()\n",
    "        for i in range(len(dataset[0])):\n",
    "            col_values = [ row[i] for row in dataset]\n",
    "            norm.append([min(col_values), max(col_values)])\n",
    "        return norm\n",
    "    \n",
    "    \n",
    "    # rescale dataset columns to the range 0-1\n",
    "    def normalize_dataset(self, dataset, minmax):\n",
    "        normalized = []\n",
    "        for row in dataset:\n",
    "            # dataset rows loop\n",
    "            output_row = []\n",
    "            for i in range(len(row)):\n",
    "                # rows input features loop\n",
    "                output_row.append((row[i] - minmax[i][0]) / (minmax[i][1] - minmax[i][0]))\n",
    "            normalized.append(output_row)\n",
    "        return normalized\n",
    "    \n",
    "    \n",
    "    def minkowski_distance(self, point1, point2):\n",
    "        # p = 1 -> Manhattan Distance\n",
    "        # p = 2 -> Euclidean Distance\n",
    "        dim = len(point1)\n",
    "        distance = 0\n",
    "        for d in range(dim):\n",
    "            distance += abs(point1[d] - point2[d])**self.dist_metric\n",
    "       \n",
    "        distance = distance**(1/self.dist_metric)\n",
    "        return distance\n",
    "    \n",
    "    \n",
    "    def get_neighbors(self, test_row):\n",
    "        distances = list()\n",
    "        for i in range(len(self.X_norm)):\n",
    "            train_row = self.X_norm[i]\n",
    "            dist = self.minkowski_distance(test_row, train_row)\n",
    "            distances.append((i, dist))\n",
    "            \n",
    "        # sort by ascending distances\n",
    "        distances.sort(key = lambda tup: tup[1])\n",
    "        neighbors = list()\n",
    "        for i in range(self.k):\n",
    "            neighbors.append(distances[i][0])\n",
    "        return neighbors\n",
    "    \n",
    "    \n",
    "    def get_k_neighbors_class(self, distances):\n",
    "        d = {}\n",
    "        for i in distances:\n",
    "            y = self.y[i]\n",
    "            if d.get(y) is None:\n",
    "                d[y] = 1\n",
    "            else:\n",
    "                d[y] += 1\n",
    "        output = 0\n",
    "        c = None\n",
    "        for k,v in d.items():\n",
    "            if v > output:\n",
    "                output = v\n",
    "                c = k\n",
    "        return k\n",
    "    \n",
    "    \n",
    "    # if append_to_dataset is True, the row will be added to the dataset. Default: True\n",
    "    def predict(self, row, append_to_dataset=True):\n",
    "        if append_to_dataset:\n",
    "            self.X.append(row)\n",
    "            self.X_norm = self.normalize_dataset(self.X, self.get_min_max(self.X))\n",
    "            self.y.append(prediction)\n",
    "        \n",
    "        neighbors = self.get_neighbors(row)\n",
    "        prediction = self.get_k_neighbors_class(neighbors)\n",
    "        return prediction\n",
    "    \n",
    "    \n",
    "    def evaluate(self, test_dataset, classes):\n",
    "        # Normalization of test_dataset\n",
    "        predictions = list()\n",
    "        for row in test_dataset:\n",
    "            d = self.X[:]\n",
    "            d.append(row)\n",
    "            minmax = self.get_min_max(d)\n",
    "            n = self.normalize_dataset(d, minmax)\n",
    "            normalized_row = n[-1]\n",
    "            predictions.append(self.predict(normalized_row, append_to_dataset=False))\n",
    "        \n",
    "        correct_predictions = 0\n",
    "        \n",
    "        for i in range(len(predictions)):\n",
    "            if predictions[i] == classes[i]:\n",
    "                correct_predictions +=1\n",
    "        return correct_predictions / len(classes)\n",
    "    "
   ]
  },
  {
   "cell_type": "markdown",
   "id": "2d4aa5d9-2065-4142-98bc-a9e6d75f347c",
   "metadata": {},
   "source": [
    "<hr>"
   ]
  },
  {
   "cell_type": "markdown",
   "id": "11aabdb1",
   "metadata": {},
   "source": [
    "In this notebook we use the dataset *'Pokemon with stats'* to predict whether a pokemon is legendary or not\n",
    "\n",
    "[Dataset available at this link](https://www.kaggle.com/datasets/abcsds/pokemon/code) \n",
    "\n",
    "\n",
    "#### About Dataset\n",
    "\n",
    "This data set includes 721 Pokemon, including their number, name, first and second type, and basic stats: HP, Attack, Defense, Special Attack, Special Defense, and Speed.\n",
    "\n",
    "The data as described by Myles O'Neill is:\n",
    "* **`#`** ID for each pokemon\n",
    "* **`Name`** Name of each pokemon\n",
    "* **`Type 1`** Each pokemon has a type, this determines weakness/resistance to attacks\n",
    "* **`Type 2`** Some pokemon are dual type and have 2\n",
    "* **`Total`** sum of all stats that come after this, a general guide to how strong a pokemon is\n",
    "* **`HP`** hit points, or health, defines how much damage a pokemon can withstand before fainting\n",
    "* **`Attack`** the base modifier for normal attacks (eg. Scratch, Punch)\n",
    "* **`Defense`** the base damage resistance against normal attacks\n",
    "* **`SP Atk`** special attack, the base modifier for special attacks (e.g. fire blast, bubble beam)\n",
    "* **`SP Def`** the base damage resistance against special attacks\n",
    "* **`Speed`** determines which pokemon attacks first each round\n",
    "\n",
    "<hr>"
   ]
  },
  {
   "cell_type": "markdown",
   "id": "cc7bf964-c722-4873-a26b-2002bb263398",
   "metadata": {},
   "source": [
    "**Load Dataset**"
   ]
  },
  {
   "cell_type": "code",
   "execution_count": 2,
   "id": "9c73b78b",
   "metadata": {},
   "outputs": [],
   "source": [
    "import csv\n",
    "\n",
    "# contains the columns labels of the dataset\n",
    "columns = []\n",
    "# contains all rows of the dataset\n",
    "pokemon_dataset = []\n",
    "\n",
    "with open(\"Pokemon.csv\") as file:\n",
    "    reader = csv.reader(file)\n",
    "    columns = next(reader)\n",
    "    for row in reader:\n",
    "        pokemon_dataset.append(row)\n",
    "    "
   ]
  },
  {
   "cell_type": "code",
   "execution_count": 3,
   "id": "dc30d25f",
   "metadata": {},
   "outputs": [
    {
     "name": "stdout",
     "output_type": "stream",
     "text": [
      "['#', 'Name', 'Type 1', 'Type 2', 'Total', 'HP', 'Attack', 'Defense', 'Sp. Atk', 'Sp. Def', 'Speed', 'Generation', 'Legendary']\n",
      "\n",
      "\n",
      "['1', 'Bulbasaur', 'Grass', 'Poison', '318', '45', '49', '49', '65', '65', '45', '1', 'False']\n",
      "['2', 'Ivysaur', 'Grass', 'Poison', '405', '60', '62', '63', '80', '80', '60', '1', 'False']\n",
      "['3', 'Venusaur', 'Grass', 'Poison', '525', '80', '82', '83', '100', '100', '80', '1', 'False']\n",
      "['3', 'VenusaurMega Venusaur', 'Grass', 'Poison', '625', '80', '100', '123', '122', '120', '80', '1', 'False']\n",
      "['4', 'Charmander', 'Fire', '', '309', '39', '52', '43', '60', '50', '65', '1', 'False']\n"
     ]
    }
   ],
   "source": [
    "print(columns)\n",
    "print(\"\\n\")\n",
    "# print first 5 row of pokemon_dataset\n",
    "for i in pokemon_dataset[:5]:\n",
    "    print(i)"
   ]
  },
  {
   "cell_type": "markdown",
   "id": "0a7899be",
   "metadata": {},
   "source": [
    "*we are only interested in the columns:* 'HP', 'Attack', 'Defense', 'Sp. Atk', 'Sp. Def', 'Speed'"
   ]
  },
  {
   "cell_type": "code",
   "execution_count": 4,
   "id": "d79b2d77",
   "metadata": {},
   "outputs": [
    {
     "name": "stdout",
     "output_type": "stream",
     "text": [
      "['HP', 'Attack', 'Defense', 'Sp. Atk', 'Sp. Def', 'Speed']\n",
      "[[45, 49, 49, 65, 65, 45]]\n",
      "['Legendary']\n"
     ]
    }
   ],
   "source": [
    "input_columns = columns[5:11]\n",
    "print(input_columns)\n",
    "input_features = [ [ int(col) for col in row[5:11] ] for row in pokemon_dataset ]\n",
    "print(input_features[:1])\n",
    "output_column = columns[-1:]\n",
    "print(output_column)"
   ]
  },
  {
   "cell_type": "code",
   "execution_count": 5,
   "id": "bf110a55",
   "metadata": {},
   "outputs": [],
   "source": [
    "# 1 if pokemn is legendary, 0 otherwise\n",
    "output_labels = [ 0 if row[-1] == \"False\" else 1 for row in pokemon_dataset ]"
   ]
  },
  {
   "cell_type": "code",
   "execution_count": 6,
   "id": "37fef787",
   "metadata": {},
   "outputs": [],
   "source": [
    "from sklearn.model_selection import train_test_split"
   ]
  },
  {
   "cell_type": "markdown",
   "id": "9d884524",
   "metadata": {},
   "source": [
    "<i>sklearn.model_selection.train_test_split(*arrays, test_size=None, train_size=None, random_state=None, shuffle=True, stratify=None)</i>\n",
    "\n",
    "Split arrays or matrices into random train and test subsets.\n",
    "\n",
    "**Some parameters:**\n",
    "* *test_size: float or int, default=None* <br> If float, should be between 0.0 and 1.0 and represent the proportion of the dataset to include in the test split. If int, represents the absolute number of test samples. If None, the value is set to the complement of the train size. If train_size is also None, it will be set to 0.25.\n",
    "* *random_state: int, RandomState instance or None, default=None* <br>Controls the shuffling applied to the data before applying the split. Pass an int for reproducible output across multiple function calls.\n",
    "* *stratify: array-like, default=None* <br> If not None, data is split in a stratified fashion, using this as the class labels.\n",
    "\n",
    "**Returns:** *splittinglist, length=2 * len(arrays)* -> List containing train-test split of inputs.\n"
   ]
  },
  {
   "cell_type": "code",
   "execution_count": 7,
   "id": "03ac6ed4",
   "metadata": {},
   "outputs": [
    {
     "name": "stdout",
     "output_type": "stream",
     "text": [
      "Number of elements in train dataset: 560\n",
      "Number of elements in test dataset: 240\n"
     ]
    }
   ],
   "source": [
    "X_train, X_test, y_train, y_test = train_test_split(\n",
    "    input_features,\n",
    "    output_labels,\n",
    "    test_size=0.3,\n",
    "    random_state=42,\n",
    "    stratify=output_labels\n",
    ")\n",
    "\n",
    "print(f'Number of elements in train dataset: {len(X_train)}')\n",
    "print(f'Number of elements in test dataset: {len(X_test)}')"
   ]
  },
  {
   "cell_type": "code",
   "execution_count": 8,
   "id": "ea795d27",
   "metadata": {},
   "outputs": [
    {
     "name": "stdout",
     "output_type": "stream",
     "text": [
      "For k = 7 the accuracy is: 0.875\n"
     ]
    }
   ],
   "source": [
    "legendary_classifier = KNNClassifier(k=7, X=X_train, y=y_train)\n",
    "accuracy = legendary_classifier.evaluate(X_test, y_test)\n",
    "print(f'For k = 7 the accuracy is: {accuracy}')"
   ]
  },
  {
   "cell_type": "code",
   "execution_count": 9,
   "id": "a66d1386",
   "metadata": {},
   "outputs": [],
   "source": [
    "import matplotlib.pyplot as plt\n",
    "\n",
    "def evaluate_on_k(features, labels, dist_metric=2):\n",
    "    k_values = [3, 5, 7, 9, 11, 13, 15, 17, 19]\n",
    "    accuracies = []\n",
    "    X_train, X_test, y_train, y_test = train_test_split(\n",
    "        features,\n",
    "        labels,\n",
    "        test_size=0.3,\n",
    "        random_state=42,\n",
    "        stratify=labels\n",
    "    )\n",
    "    \n",
    "    for k in k_values:\n",
    "        c = KNNClassifier(k=k, X=X_train, y=y_train, dist_metric=dist_metric)\n",
    "        accuracy = c.evaluate(X_test, y_test)\n",
    "        accuracies.append(accuracy)\n",
    "        print(f\"k -> {k}; accuracy -> {accuracy}\")\n",
    "    \n",
    "    \n",
    "    fig, ax = plt.subplots(1, 1, figsize=(12, 6))\n",
    "    ax.scatter(k_values, accuracies)\n",
    "    ax.set_title(\"Accuracy over K\")\n",
    "    ax.set_xlabel(\"K number of neighbors\")\n",
    "    ax.set_ylabel(\"Accuracy\")\n",
    "    for i, label in enumerate(k_values):\n",
    "        plt.annotate(f\"K={label}\", (k_values[i], accuracies[i]))\n",
    "    \n",
    "    plt.show()"
   ]
  },
  {
   "cell_type": "code",
   "execution_count": 10,
   "id": "08f48e7a",
   "metadata": {},
   "outputs": [
    {
     "name": "stdout",
     "output_type": "stream",
     "text": [
      "k -> 3; accuracy -> 0.9375\n",
      "k -> 5; accuracy -> 0.9041666666666667\n",
      "k -> 7; accuracy -> 0.875\n",
      "k -> 9; accuracy -> 0.8666666666666667\n",
      "k -> 11; accuracy -> 0.8541666666666666\n",
      "k -> 13; accuracy -> 0.85\n",
      "k -> 15; accuracy -> 0.8458333333333333\n",
      "k -> 17; accuracy -> 0.8375\n",
      "k -> 19; accuracy -> 0.8166666666666667\n"
     ]
    },
    {
     "data": {
      "image/png": "[encoded data removed]",
      "text/plain": [
       "<Figure size 1200x600 with 1 Axes>"
      ]
     },
     "metadata": {},
     "output_type": "display_data"
    }
   ],
   "source": [
    "evaluate_on_k(input_features, output_labels)"
   ]
  },
  {
   "cell_type": "markdown",
   "id": "bc0bb26f",
   "metadata": {},
   "source": [
    "With k=3 the model has the highest accuracy\n",
    "\n",
    "**If instead we use Manhattan Distance:**"
   ]
  },
  {
   "cell_type": "code",
   "execution_count": 11,
   "id": "fdc3ab56",
   "metadata": {},
   "outputs": [
    {
     "name": "stdout",
     "output_type": "stream",
     "text": [
      "k -> 3; accuracy -> 0.9125\n",
      "k -> 5; accuracy -> 0.8791666666666667\n",
      "k -> 7; accuracy -> 0.8708333333333333\n",
      "k -> 9; accuracy -> 0.8583333333333333\n",
      "k -> 11; accuracy -> 0.85\n",
      "k -> 13; accuracy -> 0.8458333333333333\n",
      "k -> 15; accuracy -> 0.8333333333333334\n",
      "k -> 17; accuracy -> 0.825\n",
      "k -> 19; accuracy -> 0.8208333333333333\n"
     ]
    },
    {
     "data": {
      "image/png": "[encoded data removed]",
      "text/plain": [
       "<Figure size 1200x600 with 1 Axes>"
      ]
     },
     "metadata": {},
     "output_type": "display_data"
    }
   ],
   "source": [
    "evaluate_on_k(input_features, output_labels, dist_metric=1)"
   ]
  },
  {
   "cell_type": "markdown",
   "id": "95abe3cb",
   "metadata": {},
   "source": [
    "Also in this case with k=3 the model has the highest accuracy\n"
   ]
  }
 ],
 "metadata": {
  "kernelspec": {
   "display_name": "Python 3 (ipykernel)",
   "language": "python",
   "name": "python3"
  },
  "language_info": {
   "codemirror_mode": {
    "name": "ipython",
    "version": 3
   },
   "file_extension": ".py",
   "mimetype": "text/x-python",
   "name": "python",
   "nbconvert_exporter": "python",
   "pygments_lexer": "ipython3",
   "version": "3.11.1"
  }
 },
 "nbformat": 4,
 "nbformat_minor": 5
}
